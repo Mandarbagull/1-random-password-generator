{
 "cells": [
  {
   "cell_type": "markdown",
   "id": "81aac018",
   "metadata": {},
   "source": [
    "# Random Password generator\n",
    "    \n",
    "    create a n digit random password generator which consists atleast one digit, one uppercase alphabate, one lowercase alphabate and one special character"
   ]
  },
  {
   "cell_type": "code",
   "execution_count": 1,
   "id": "1de96535",
   "metadata": {},
   "outputs": [
    {
     "name": "stdout",
     "output_type": "stream",
     "text": [
      "Enter size:40\n",
      "5<\"^^lRg[D?io1j*=dexj_l'/j9uIR{Cx?b(8s|j\n"
     ]
    }
   ],
   "source": [
    "# importing all the necessary libraries\n",
    "import random\n",
    "import string\n",
    "\n",
    "\n",
    "lower = string.ascii_lowercase\n",
    "upper = string.ascii_uppercase\n",
    "num = string.digits\n",
    "symbols = string.punctuation\n",
    "\n",
    "n = int(input(\"Enter size:\"))\n",
    "if n>=4:\n",
    "\n",
    "    four_digit = list(random.choice(lower)+ random.choice(upper)+ random.choice(num)+ random.choice(symbols))\n",
    "    pool1 = list((lower) + (upper) + (num) + (symbols))\n",
    "\n",
    "    for i in range(n-4):\n",
    "        four_digit.append(random.choice(pool1))\n",
    "    \n",
    "    random.shuffle(four_digit)\n",
    "    print(''.join(four_digit))\n",
    "    \n",
    "else:\n",
    "    print(\"Enter size greater or equal to  4\" )\n"
   ]
  },
  {
   "cell_type": "code",
   "execution_count": null,
   "id": "f44fe248",
   "metadata": {},
   "outputs": [],
   "source": []
  }
 ],
 "metadata": {
  "kernelspec": {
   "display_name": "Python 3 (ipykernel)",
   "language": "python",
   "name": "python3"
  },
  "language_info": {
   "codemirror_mode": {
    "name": "ipython",
    "version": 3
   },
   "file_extension": ".py",
   "mimetype": "text/x-python",
   "name": "python",
   "nbconvert_exporter": "python",
   "pygments_lexer": "ipython3",
   "version": "3.10.4"
  }
 },
 "nbformat": 4,
 "nbformat_minor": 5
}
